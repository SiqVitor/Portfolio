{
 "cells": [
  {
   "cell_type": "markdown",
   "id": "745fbc6b-e7eb-4cc3-9e55-a02c381e3c69",
   "metadata": {},
   "source": [
    "# Practical Statistics for Data Scientists\n",
    "#### Implementation of examples and exercises while studying the bookts"
   ]
  },
  {
   "cell_type": "code",
   "execution_count": 28,
   "id": "1f14216f-6480-42bb-be67-63f5bca48cb7",
   "metadata": {},
   "outputs": [],
   "source": [
    "# importing necessary libs\n",
    "import numpy as np\n",
    "import pandas as pd\n",
    "from scipy.stats import trim_mean\n",
    "from wquantiles import median as w_median"
   ]
  },
  {
   "cell_type": "markdown",
   "id": "1962166f-727e-466c-ab0e-2bb6fea984f5",
   "metadata": {},
   "source": [
    "## Estimates of Location: Mean, Trimmed Mean, Median and Weighted Metrics\n",
    "### The mean is calculated using the observations themselves, while the median simply finds the value that divides the sorted data in half. The median is less sensitive to outliers, whereas the mean can be biased. An alternative to the normal mean is the trimmed mean, which is robust to outliers."
   ]
  },
  {
   "cell_type": "code",
   "execution_count": 19,
   "id": "e05b1751-25c0-4fbf-b6ee-9e8376e829d0",
   "metadata": {},
   "outputs": [
    {
     "data": {
      "text/html": [
       "<div>\n",
       "<style scoped>\n",
       "    .dataframe tbody tr th:only-of-type {\n",
       "        vertical-align: middle;\n",
       "    }\n",
       "\n",
       "    .dataframe tbody tr th {\n",
       "        vertical-align: top;\n",
       "    }\n",
       "\n",
       "    .dataframe thead th {\n",
       "        text-align: right;\n",
       "    }\n",
       "</style>\n",
       "<table border=\"1\" class=\"dataframe\">\n",
       "  <thead>\n",
       "    <tr style=\"text-align: right;\">\n",
       "      <th></th>\n",
       "      <th>State</th>\n",
       "      <th>Population</th>\n",
       "      <th>Murder.Rate</th>\n",
       "      <th>Abbreviation</th>\n",
       "    </tr>\n",
       "  </thead>\n",
       "  <tbody>\n",
       "    <tr>\n",
       "      <th>0</th>\n",
       "      <td>Alabama</td>\n",
       "      <td>4779736</td>\n",
       "      <td>5.7</td>\n",
       "      <td>AL</td>\n",
       "    </tr>\n",
       "    <tr>\n",
       "      <th>1</th>\n",
       "      <td>Alaska</td>\n",
       "      <td>710231</td>\n",
       "      <td>5.6</td>\n",
       "      <td>AK</td>\n",
       "    </tr>\n",
       "    <tr>\n",
       "      <th>2</th>\n",
       "      <td>Arizona</td>\n",
       "      <td>6392017</td>\n",
       "      <td>4.7</td>\n",
       "      <td>AZ</td>\n",
       "    </tr>\n",
       "  </tbody>\n",
       "</table>\n",
       "</div>"
      ],
      "text/plain": [
       "     State  Population  Murder.Rate Abbreviation\n",
       "0  Alabama     4779736          5.7           AL\n",
       "1   Alaska      710231          5.6           AK\n",
       "2  Arizona     6392017          4.7           AZ"
      ]
     },
     "execution_count": 19,
     "metadata": {},
     "output_type": "execute_result"
    }
   ],
   "source": [
    "# Reading the State Data\n",
    "state = pd.read_csv('state.csv')\n",
    "state.head(3)"
   ]
  },
  {
   "cell_type": "code",
   "execution_count": 21,
   "id": "97ea3915-96d5-4bfc-9bdb-adda0667e731",
   "metadata": {},
   "outputs": [
    {
     "name": "stdout",
     "output_type": "stream",
     "text": [
      "Mean: 6162876.30, Trimmed Mean: 4783697.12, and Median: 4436369.50\n"
     ]
    }
   ],
   "source": [
    "# Calculating the estimates\n",
    "buff_str = 'Mean: {:.2f}, Trimmed Mean: {:.2f}, and Median: {:.2f}'.format(\n",
    "    state['Population'].mean(), \n",
    "    trim_mean(state['Population'], 0.1), \n",
    "    state['Population'].median()\n",
    ")\n",
    "\n",
    "print(buff_str)"
   ]
  },
  {
   "cell_type": "code",
   "execution_count": 31,
   "id": "46b6e302-ba88-438b-9a08-648fe8652bc9",
   "metadata": {},
   "outputs": [
    {
     "name": "stdout",
     "output_type": "stream",
     "text": [
      "Weighted Mean: 4.45, Weighted Median: 4.40\n"
     ]
    }
   ],
   "source": [
    "# Weighted Mean and median\n",
    "weighted_mean = np.average(state['Murder.Rate'], weights=state['Population'])\n",
    "weighted_median = w_median(state['Murder.Rate'], weights=state['Population'])\n",
    "\n",
    "print(\"Weighted Mean: {:.2f}, Weighted Median: {:.2f}\".format(weighted_mean, weighted_median))\n"
   ]
  },
  {
   "cell_type": "code",
   "execution_count": null,
   "id": "1e4e3b73-ca58-430d-8f4c-96189ea1825f",
   "metadata": {},
   "outputs": [],
   "source": []
  }
 ],
 "metadata": {
  "kernelspec": {
   "display_name": "Python 3 (ipykernel)",
   "language": "python",
   "name": "python3"
  },
  "language_info": {
   "codemirror_mode": {
    "name": "ipython",
    "version": 3
   },
   "file_extension": ".py",
   "mimetype": "text/x-python",
   "name": "python",
   "nbconvert_exporter": "python",
   "pygments_lexer": "ipython3",
   "version": "3.11.4"
  }
 },
 "nbformat": 4,
 "nbformat_minor": 5
}
